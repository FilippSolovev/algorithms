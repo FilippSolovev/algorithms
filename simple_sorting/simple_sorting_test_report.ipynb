{
  "nbformat": 4,
  "nbformat_minor": 0,
  "metadata": {
    "colab": {
      "name": "simple_sorting_test_report.ipynb",
      "provenance": [],
      "collapsed_sections": [],
      "include_colab_link": true
    },
    "kernelspec": {
      "display_name": "Python 3",
      "name": "python3"
    }
  },
  "cells": [
    {
      "cell_type": "markdown",
      "metadata": {
        "id": "view-in-github",
        "colab_type": "text"
      },
      "source": [
        "<a href=\"https://colab.research.google.com/github/FilippSolovev/algorithms/blob/master/simple_sorting/simple_sorting_test_report.ipynb\" target=\"_parent\"><img src=\"https://colab.research.google.com/assets/colab-badge.svg\" alt=\"Open In Colab\"/></a>"
      ]
    },
    {
      "cell_type": "markdown",
      "metadata": {
        "id": "jW4QSyy39Jee"
      },
      "source": [
        "## **Preparation steps**"
      ]
    },
    {
      "cell_type": "code",
      "metadata": {
        "id": "_fB-xVdF9AwX",
        "colab": {
          "base_uri": "https://localhost:8080/"
        },
        "outputId": "f6a82f3d-2367-4fbd-bcfa-ae64a0f800e5"
      },
      "source": [
        "#@title **Clone the repository**\n",
        "!git clone https://github.com/FilippSolovev/algorithms.git\n",
        "!ls"
      ],
      "execution_count": null,
      "outputs": [
        {
          "output_type": "stream",
          "text": [
            "Cloning into 'algorithms'...\n",
            "remote: Enumerating objects: 67, done.\u001b[K\n",
            "remote: Counting objects: 100% (67/67), done.\u001b[K\n",
            "remote: Compressing objects: 100% (23/23), done.\u001b[K\n",
            "remote: Total 523 (delta 16), reused 57 (delta 12), pack-reused 456\u001b[K\n",
            "Receiving objects: 100% (523/523), 109.81 MiB | 19.06 MiB/s, done.\n",
            "Resolving deltas: 100% (193/193), done.\n",
            "algorithms    helper.py\t\t __pycache__  selection_sort.py  tests\n",
            "heap_sort.py  insertion_sort.py  README.md    shell_sort.py\n"
          ],
          "name": "stdout"
        }
      ]
    },
    {
      "cell_type": "code",
      "metadata": {
        "id": "zEIZ6AqD9VsV",
        "colab": {
          "base_uri": "https://localhost:8080/"
        },
        "outputId": "e74fcc4d-634b-423e-bcfc-e8f904b24180"
      },
      "source": [
        "#@title **Install the Naive Tester Package**\n",
        "!pip install naive-tester"
      ],
      "execution_count": null,
      "outputs": [
        {
          "output_type": "stream",
          "text": [
            "Requirement already satisfied: naive-tester in /usr/local/lib/python3.7/dist-packages (1.2.1)\n"
          ],
          "name": "stdout"
        }
      ]
    },
    {
      "cell_type": "code",
      "metadata": {
        "id": "nzcWLFoz9apK",
        "colab": {
          "base_uri": "https://localhost:8080/"
        },
        "outputId": "c153f64e-820a-4b9e-c945-9a63ffe8c72b"
      },
      "source": [
        "#@title **Change the working directory**\n",
        "\n",
        "import os\n",
        "\n",
        "os.chdir('algorithms/simple_sorting')\n",
        "\n",
        "!ls"
      ],
      "execution_count": null,
      "outputs": [
        {
          "output_type": "stream",
          "text": [
            "heap_sort.py  insertion_sort.py  selection_sort.py  tests\n",
            "helper.py     README.md\t\t shell_sort.py\n"
          ],
          "name": "stdout"
        }
      ]
    },
    {
      "cell_type": "code",
      "metadata": {
        "id": "EVQPeY1L9d3x",
        "colab": {
          "base_uri": "https://localhost:8080/"
        },
        "outputId": "54e1a895-5d61-44c1-956c-e3c21cd9ba53"
      },
      "source": [
        "#@title **List full set of tests**\n",
        "!ls tests/digits\n",
        "!ls tests/random\n",
        "!ls tests/reverse\n",
        "!ls tests/sorted"
      ],
      "execution_count": null,
      "outputs": [
        {
          "output_type": "stream",
          "text": [
            "test_0.in   test_1.out\ttest_2.txt  test_4.in\ttest_5.out  test_6.txt\n",
            "test_0.out  test_1.txt\ttest_3.in   test_4.out\ttest_5.txt\n",
            "test_0.txt  test_2.in\ttest_3.out  test_4.txt\ttest_6.in\n",
            "test_1.in   test_2.out\ttest_3.txt  test_5.in\ttest_6.out\n",
            "test_0.in   test_1.out\ttest_2.txt  test_4.in\ttest_5.out  test_6.txt\n",
            "test_0.out  test_1.txt\ttest_3.in   test_4.out\ttest_5.txt\n",
            "test_0.txt  test_2.in\ttest_3.out  test_4.txt\ttest_6.in\n",
            "test_1.in   test_2.out\ttest_3.txt  test_5.in\ttest_6.out\n",
            "test_0.in   test_1.out\ttest_2.txt  test_4.in\ttest_5.out  test_6.txt\n",
            "test_0.out  test_1.txt\ttest_3.in   test_4.out\ttest_5.txt\n",
            "test_0.txt  test_2.in\ttest_3.out  test_4.txt\ttest_6.in\n",
            "test_1.in   test_2.out\ttest_3.txt  test_5.in\ttest_6.out\n",
            "test_0.in   test_1.out\ttest_2.txt  test_4.in\ttest_5.out  test_6.txt\n",
            "test_0.out  test_1.txt\ttest_3.in   test_4.out\ttest_5.txt\n",
            "test_0.txt  test_2.in\ttest_3.out  test_4.txt\ttest_6.in\n",
            "test_1.in   test_2.out\ttest_3.txt  test_5.in\ttest_6.out\n"
          ],
          "name": "stdout"
        }
      ]
    },
    {
      "cell_type": "code",
      "metadata": {
        "id": "9OYG17CPcnhS"
      },
      "source": [
        "#@title **Getting rid of the heaviest test**\n",
        "!rm tests/digits/test_6.*\n",
        "!rm tests/random/test_6.*\n",
        "!rm tests/reverse/test_6.*\n",
        "!rm tests/sorted/test_6.*"
      ],
      "execution_count": null,
      "outputs": []
    },
    {
      "cell_type": "markdown",
      "metadata": {
        "id": "t1fYnNTV9iti"
      },
      "source": [
        "##**Random digits array**"
      ]
    },
    {
      "cell_type": "code",
      "metadata": {
        "id": "d8L4h1GeJtek",
        "colab": {
          "base_uri": "https://localhost:8080/"
        },
        "outputId": "5c7d1fc3-79c7-46d4-b3df-b1a84522a084"
      },
      "source": [
        "#Insertion sort\n",
        "!tester insertion_sort.py tests/digits"
      ],
      "execution_count": null,
      "outputs": [
        {
          "output_type": "stream",
          "text": [
            "Successfully run the insertion_sort.py.\n",
            "Elapsed time: 0.04s\n",
            "Successfully run the insertion_sort.py.\n",
            "Elapsed time: 0.04s\n",
            "Successfully run the insertion_sort.py.\n",
            "Elapsed time: 0.04s\n",
            "Successfully run the insertion_sort.py.\n",
            "Elapsed time: 0.11s\n",
            "Successfully run the insertion_sort.py.\n",
            "Elapsed time: 8.10s\n",
            "Successfully run the insertion_sort.py.\n",
            "Elapsed time: 802.95s\n"
          ],
          "name": "stdout"
        }
      ]
    },
    {
      "cell_type": "code",
      "metadata": {
        "id": "lni1UjtJ9rqy",
        "colab": {
          "base_uri": "https://localhost:8080/"
        },
        "outputId": "c1ad1c2c-0870-4810-85a5-98902d303dac"
      },
      "source": [
        "#Selection sort\n",
        "!tester selection_sort.py tests/digits"
      ],
      "execution_count": null,
      "outputs": [
        {
          "output_type": "stream",
          "text": [
            "Successfully run the selection_sort.py.\n",
            "Elapsed time: 0.04s\n",
            "Successfully run the selection_sort.py.\n",
            "Elapsed time: 0.04s\n",
            "Successfully run the selection_sort.py.\n",
            "Elapsed time: 0.04s\n",
            "Successfully run the selection_sort.py.\n",
            "Elapsed time: 0.08s\n",
            "Successfully run the selection_sort.py.\n",
            "Elapsed time: 3.82s\n",
            "Successfully run the selection_sort.py.\n",
            "Elapsed time: 379.50s\n"
          ],
          "name": "stdout"
        }
      ]
    },
    {
      "cell_type": "code",
      "metadata": {
        "id": "DsA50zBQJ3Ga",
        "colab": {
          "base_uri": "https://localhost:8080/"
        },
        "outputId": "4deca7ab-50f8-459c-8e22-dcf497b97acc"
      },
      "source": [
        "#Shell sort\n",
        "!tester shell_sort.py tests/digits"
      ],
      "execution_count": null,
      "outputs": [
        {
          "output_type": "stream",
          "text": [
            "Successfully run the shell_sort.py.\n",
            "Elapsed time: 0.04s\n",
            "Successfully run the shell_sort.py.\n",
            "Elapsed time: 0.04s\n",
            "Successfully run the shell_sort.py.\n",
            "Elapsed time: 0.04s\n",
            "Successfully run the shell_sort.py.\n",
            "Elapsed time: 0.12s\n",
            "Successfully run the shell_sort.py.\n",
            "Elapsed time: 9.55s\n",
            "Successfully run the shell_sort.py.\n",
            "Elapsed time: 817.71s\n"
          ],
          "name": "stdout"
        }
      ]
    },
    {
      "cell_type": "code",
      "metadata": {
        "id": "Nl91oCinLH_z",
        "colab": {
          "base_uri": "https://localhost:8080/"
        },
        "outputId": "4e05f3a5-57c9-470f-fb82-8541afd8f711"
      },
      "source": [
        "#Heap sort\n",
        "!tester heap_sort.py tests/digits"
      ],
      "execution_count": null,
      "outputs": [
        {
          "output_type": "stream",
          "text": [
            "Successfully run the heap_sort.py.\n",
            "Elapsed time: 0.04s\n",
            "Successfully run the heap_sort.py.\n",
            "Elapsed time: 0.04s\n",
            "Successfully run the heap_sort.py.\n",
            "Elapsed time: 0.04s\n",
            "Successfully run the heap_sort.py.\n",
            "Elapsed time: 0.04s\n",
            "Successfully run the heap_sort.py.\n",
            "Elapsed time: 0.10s\n",
            "Successfully run the heap_sort.py.\n",
            "Elapsed time: 0.75s\n"
          ],
          "name": "stdout"
        }
      ]
    },
    {
      "cell_type": "markdown",
      "metadata": {
        "id": "ERMB6OFOGbTA"
      },
      "source": [
        "##**Random numbers array**"
      ]
    },
    {
      "cell_type": "code",
      "metadata": {
        "id": "UpjytwwHKOrZ",
        "colab": {
          "base_uri": "https://localhost:8080/"
        },
        "outputId": "a9016cfa-e3be-4dc8-db7b-0050499ecc03"
      },
      "source": [
        "#Insertion sort\n",
        "!tester insertion_sort.py tests/random"
      ],
      "execution_count": null,
      "outputs": [
        {
          "output_type": "stream",
          "text": [
            "Successfully run the insertion_sort.py.\n",
            "Elapsed time: 0.04s\n",
            "Successfully run the insertion_sort.py.\n",
            "Elapsed time: 0.04s\n",
            "Successfully run the insertion_sort.py.\n",
            "Elapsed time: 0.04s\n",
            "Successfully run the insertion_sort.py.\n",
            "Elapsed time: 0.11s\n",
            "Successfully run the insertion_sort.py.\n",
            "Elapsed time: 8.07s\n",
            "Successfully run the insertion_sort.py.\n",
            "Elapsed time: 902.92s\n"
          ],
          "name": "stdout"
        }
      ]
    },
    {
      "cell_type": "code",
      "metadata": {
        "id": "-OeQxWKGC5Ud",
        "colab": {
          "base_uri": "https://localhost:8080/"
        },
        "outputId": "6f09035b-0b40-4c5c-ace3-e73eecb98fe5"
      },
      "source": [
        "#Selection sort\n",
        "!tester selection_sort.py tests/random"
      ],
      "execution_count": null,
      "outputs": [
        {
          "output_type": "stream",
          "text": [
            "Successfully run the selection_sort.py.\n",
            "Elapsed time: 0.04s\n",
            "Successfully run the selection_sort.py.\n",
            "Elapsed time: 0.04s\n",
            "Successfully run the selection_sort.py.\n",
            "Elapsed time: 0.04s\n",
            "Successfully run the selection_sort.py.\n",
            "Elapsed time: 0.07s\n",
            "Successfully run the selection_sort.py.\n",
            "Elapsed time: 3.70s\n",
            "Successfully run the selection_sort.py.\n",
            "Elapsed time: 403.93s\n"
          ],
          "name": "stdout"
        }
      ]
    },
    {
      "cell_type": "code",
      "metadata": {
        "id": "u1lx-EeRKVh6",
        "colab": {
          "base_uri": "https://localhost:8080/"
        },
        "outputId": "e730c8eb-80d0-4202-f41e-afe976b60196"
      },
      "source": [
        "#Shell sort\n",
        "!tester shell_sort.py tests/random"
      ],
      "execution_count": null,
      "outputs": [
        {
          "output_type": "stream",
          "text": [
            "Successfully run the shell_sort.py.\n",
            "Elapsed time: 0.04s\n",
            "Successfully run the shell_sort.py.\n",
            "Elapsed time: 0.04s\n",
            "Successfully run the shell_sort.py.\n",
            "Elapsed time: 0.04s\n",
            "Successfully run the shell_sort.py.\n",
            "Elapsed time: 0.12s\n",
            "Successfully run the shell_sort.py.\n",
            "Elapsed time: 9.73s\n",
            "Successfully run the shell_sort.py.\n",
            "Elapsed time: 988.39s\n"
          ],
          "name": "stdout"
        }
      ]
    },
    {
      "cell_type": "code",
      "metadata": {
        "id": "B3JHgPxdLUvA",
        "colab": {
          "base_uri": "https://localhost:8080/"
        },
        "outputId": "2900e658-ed72-4895-b5ab-56563a03209b"
      },
      "source": [
        "#Heap sort\n",
        "!tester heap_sort.py tests/random"
      ],
      "execution_count": null,
      "outputs": [
        {
          "output_type": "stream",
          "text": [
            "Successfully run the heap_sort.py.\n",
            "Elapsed time: 0.04s\n",
            "Successfully run the heap_sort.py.\n",
            "Elapsed time: 0.04s\n",
            "Successfully run the heap_sort.py.\n",
            "Elapsed time: 0.04s\n",
            "Successfully run the heap_sort.py.\n",
            "Elapsed time: 0.04s\n",
            "Successfully run the heap_sort.py.\n",
            "Elapsed time: 0.10s\n",
            "Successfully run the heap_sort.py.\n",
            "Elapsed time: 0.86s\n"
          ],
          "name": "stdout"
        }
      ]
    },
    {
      "cell_type": "markdown",
      "metadata": {
        "id": "3lGoT078Hdck"
      },
      "source": [
        "##**Sorted array**"
      ]
    },
    {
      "cell_type": "code",
      "metadata": {
        "id": "ejl9V28GHmba",
        "colab": {
          "base_uri": "https://localhost:8080/"
        },
        "outputId": "7fed62e8-5fab-43b7-b09f-32d89b0cea1c"
      },
      "source": [
        "#Insertion sort\n",
        "!tester insertion_sort.py tests/sorted"
      ],
      "execution_count": null,
      "outputs": [
        {
          "output_type": "stream",
          "text": [
            "Successfully run the insertion_sort.py.\n",
            "Elapsed time: 0.04s\n",
            "Successfully run the insertion_sort.py.\n",
            "Elapsed time: 0.05s\n",
            "Successfully run the insertion_sort.py.\n",
            "Elapsed time: 0.04s\n",
            "Successfully run the insertion_sort.py.\n",
            "Elapsed time: 0.08s\n",
            "Successfully run the insertion_sort.py.\n",
            "Elapsed time: 5.03s\n",
            "Successfully run the insertion_sort.py.\n",
            "Elapsed time: 504.98s\n"
          ],
          "name": "stdout"
        }
      ]
    },
    {
      "cell_type": "code",
      "metadata": {
        "id": "oARoZn1iKnC_",
        "colab": {
          "base_uri": "https://localhost:8080/"
        },
        "outputId": "044c4f82-bac8-494c-9ad1-204e3f06ab67"
      },
      "source": [
        "#Selection sort\n",
        "!tester selection_sort.py tests/sorted"
      ],
      "execution_count": null,
      "outputs": [
        {
          "output_type": "stream",
          "text": [
            "Successfully run the selection_sort.py.\n",
            "Elapsed time: 0.04s\n",
            "Successfully run the selection_sort.py.\n",
            "Elapsed time: 0.04s\n",
            "Successfully run the selection_sort.py.\n",
            "Elapsed time: 0.04s\n",
            "Successfully run the selection_sort.py.\n",
            "Elapsed time: 0.08s\n",
            "Successfully run the selection_sort.py.\n",
            "Elapsed time: 3.81s\n",
            "Successfully run the selection_sort.py.\n",
            "Elapsed time: 380.67s\n"
          ],
          "name": "stdout"
        }
      ]
    },
    {
      "cell_type": "code",
      "metadata": {
        "id": "qtpIv5mMKtOi",
        "colab": {
          "base_uri": "https://localhost:8080/"
        },
        "outputId": "b0c01f7b-7932-4e5f-cb44-4f60cb620fe6"
      },
      "source": [
        "#Shell sort\n",
        "!tester shell_sort.py tests/sorted"
      ],
      "execution_count": null,
      "outputs": [
        {
          "output_type": "stream",
          "text": [
            "Successfully run the shell_sort.py.\n",
            "Elapsed time: 0.04s\n",
            "Successfully run the shell_sort.py.\n",
            "Elapsed time: 0.04s\n",
            "Successfully run the shell_sort.py.\n",
            "Elapsed time: 0.04s\n",
            "Successfully run the shell_sort.py.\n",
            "Elapsed time: 0.12s\n",
            "Successfully run the shell_sort.py.\n",
            "Elapsed time: 10.00s\n",
            "Successfully run the shell_sort.py.\n",
            "Elapsed time: 863.74s\n"
          ],
          "name": "stdout"
        }
      ]
    },
    {
      "cell_type": "code",
      "metadata": {
        "id": "ZT4uP3gMLYKj",
        "colab": {
          "base_uri": "https://localhost:8080/"
        },
        "outputId": "0e51d3a6-e649-4c1d-c717-69ae65edb29d"
      },
      "source": [
        "#Heap sort\n",
        "!tester heap_sort.py tests/sorted"
      ],
      "execution_count": null,
      "outputs": [
        {
          "output_type": "stream",
          "text": [
            "Successfully run the heap_sort.py.\n",
            "Elapsed time: 0.04s\n",
            "Successfully run the heap_sort.py.\n",
            "Elapsed time: 0.04s\n",
            "Successfully run the heap_sort.py.\n",
            "Elapsed time: 0.04s\n",
            "Successfully run the heap_sort.py.\n",
            "Elapsed time: 0.05s\n",
            "Successfully run the heap_sort.py.\n",
            "Elapsed time: 0.11s\n",
            "Successfully run the heap_sort.py.\n",
            "Elapsed time: 0.88s\n"
          ],
          "name": "stdout"
        }
      ]
    },
    {
      "cell_type": "markdown",
      "metadata": {
        "id": "gg3hZKdhHC0A"
      },
      "source": [
        "##**Reversely sorted array**"
      ]
    },
    {
      "cell_type": "code",
      "metadata": {
        "id": "Epw0iOH_HWKb",
        "colab": {
          "base_uri": "https://localhost:8080/"
        },
        "outputId": "f0124bc5-372d-4d79-dd09-5bc7dcc97e05"
      },
      "source": [
        "#Insertion sort\n",
        "!tester insertion_sort.py tests/reverse"
      ],
      "execution_count": null,
      "outputs": [
        {
          "output_type": "stream",
          "text": [
            "Successfully run the insertion_sort.py.\n",
            "Elapsed time: 0.04s\n",
            "Successfully run the insertion_sort.py.\n",
            "Elapsed time: 0.04s\n",
            "Successfully run the insertion_sort.py.\n",
            "Elapsed time: 0.04s\n",
            "Successfully run the insertion_sort.py.\n",
            "Elapsed time: 0.14s\n",
            "Successfully run the insertion_sort.py.\n",
            "Elapsed time: 11.11s\n",
            "Successfully run the insertion_sort.py.\n",
            "Elapsed time: 1147.10s\n"
          ],
          "name": "stdout"
        }
      ]
    },
    {
      "cell_type": "code",
      "metadata": {
        "id": "ATVz-bJRK7dP",
        "colab": {
          "base_uri": "https://localhost:8080/"
        },
        "outputId": "377e0dec-3bdc-4f46-c011-9281cfdd427a"
      },
      "source": [
        "#Selection sort\n",
        "!tester selection_sort.py tests/reverse"
      ],
      "execution_count": null,
      "outputs": [
        {
          "output_type": "stream",
          "text": [
            "Successfully run the selection_sort.py.\n",
            "Elapsed time: 0.04s\n",
            "Successfully run the selection_sort.py.\n",
            "Elapsed time: 0.05s\n",
            "Successfully run the selection_sort.py.\n",
            "Elapsed time: 0.04s\n",
            "Successfully run the selection_sort.py.\n",
            "Elapsed time: 0.07s\n",
            "Successfully run the selection_sort.py.\n",
            "Elapsed time: 3.72s\n",
            "Successfully run the selection_sort.py.\n",
            "Elapsed time: 381.60s\n"
          ],
          "name": "stdout"
        }
      ]
    },
    {
      "cell_type": "code",
      "metadata": {
        "id": "25DC-cN9K-C-",
        "colab": {
          "base_uri": "https://localhost:8080/"
        },
        "outputId": "38d13df4-4438-4e5c-9571-44f47ea10328"
      },
      "source": [
        "#Shell sort\n",
        "!tester shell_sort.py tests/reverse"
      ],
      "execution_count": null,
      "outputs": [
        {
          "output_type": "stream",
          "text": [
            "Successfully run the shell_sort.py.\n",
            "Elapsed time: 0.04s\n",
            "Successfully run the shell_sort.py.\n",
            "Elapsed time: 0.04s\n",
            "Successfully run the shell_sort.py.\n",
            "Elapsed time: 0.04s\n",
            "Successfully run the shell_sort.py.\n",
            "Elapsed time: 0.11s\n",
            "Successfully run the shell_sort.py.\n",
            "Elapsed time: 9.73s\n",
            "Successfully run the shell_sort.py.\n",
            "Elapsed time: 837.60s\n"
          ],
          "name": "stdout"
        }
      ]
    },
    {
      "cell_type": "code",
      "metadata": {
        "id": "IvL4RpMvLcXO",
        "colab": {
          "base_uri": "https://localhost:8080/"
        },
        "outputId": "a3d1ec6f-2f53-4a59-ca47-c459ee827526"
      },
      "source": [
        "#Heap sort\n",
        "!tester heap_sort.py tests/reverse"
      ],
      "execution_count": null,
      "outputs": [
        {
          "output_type": "stream",
          "text": [
            "Successfully run the heap_sort.py.\n",
            "Elapsed time: 0.04s\n",
            "Successfully run the heap_sort.py.\n",
            "Elapsed time: 0.04s\n",
            "Successfully run the heap_sort.py.\n",
            "Elapsed time: 0.04s\n",
            "Successfully run the heap_sort.py.\n",
            "Elapsed time: 0.04s\n",
            "Successfully run the heap_sort.py.\n",
            "Elapsed time: 0.10s\n",
            "Successfully run the heap_sort.py.\n",
            "Elapsed time: 0.81s\n"
          ],
          "name": "stdout"
        }
      ]
    }
  ]
}