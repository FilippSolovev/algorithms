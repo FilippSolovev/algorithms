{
  "nbformat": 4,
  "nbformat_minor": 0,
  "metadata": {
    "colab": {
      "name": "power_test_report.ipynb",
      "provenance": [],
      "collapsed_sections": [
        "BeoODPA7RRjC"
      ]
    },
    "kernelspec": {
      "name": "python3",
      "display_name": "Python 3"
    }
  },
  "cells": [
    {
      "cell_type": "markdown",
      "metadata": {
        "id": "BeoODPA7RRjC"
      },
      "source": [
        "## **Preparation steps**"
      ]
    },
    {
      "cell_type": "code",
      "metadata": {
        "id": "YEkioJEAl48b",
        "colab": {
          "base_uri": "https://localhost:8080/"
        },
        "outputId": "c146129c-2a57-48cd-ead9-88f7f999d853"
      },
      "source": [
        "#@title **Clone the repository**\n",
        "!git clone https://github.com/FilippSolovev/algorithms.git\n",
        "!ls"
      ],
      "execution_count": 1,
      "outputs": [
        {
          "output_type": "stream",
          "text": [
            "Cloning into 'algorithms'...\n",
            "remote: Enumerating objects: 275, done.\u001b[K\n",
            "remote: Counting objects: 100% (275/275), done.\u001b[K\n",
            "remote: Compressing objects: 100% (148/148), done.\u001b[K\n",
            "remote: Total 275 (delta 72), reused 240 (delta 40), pack-reused 0\u001b[K\n",
            "Receiving objects: 100% (275/275), 2.65 MiB | 14.12 MiB/s, done.\n",
            "Resolving deltas: 100% (72/72), done.\n",
            "algorithms  sample_data\n"
          ],
          "name": "stdout"
        }
      ]
    },
    {
      "cell_type": "code",
      "metadata": {
        "id": "2Q3HCPzRmPE5",
        "colab": {
          "base_uri": "https://localhost:8080/"
        },
        "outputId": "c5ad3735-9975-4253-f778-85cc5bb0ecae"
      },
      "source": [
        "#@title **Install the Naive Tester Package**\n",
        "!pip install naive-tester"
      ],
      "execution_count": 2,
      "outputs": [
        {
          "output_type": "stream",
          "text": [
            "Collecting naive-tester\n",
            "  Downloading https://files.pythonhosted.org/packages/f0/85/a5876a3ea4cad7983e37b0db1a93e83708cbef78a911b969f53717216f11/naive_tester-1.2.0-py3-none-any.whl\n",
            "Installing collected packages: naive-tester\n",
            "Successfully installed naive-tester-1.2.0\n"
          ],
          "name": "stdout"
        }
      ]
    },
    {
      "cell_type": "code",
      "metadata": {
        "id": "ZURYt2Y5mV4Q",
        "colab": {
          "base_uri": "https://localhost:8080/"
        },
        "outputId": "e4123559-e0b6-49b6-cfd5-f68f4c9278cd"
      },
      "source": [
        "#@title **Change the working directory**\n",
        "\n",
        "import os\n",
        "\n",
        "os.chdir('algorithms/number_theoretic_algorithms/power/')\n",
        "\n",
        "!ls"
      ],
      "execution_count": 3,
      "outputs": [
        {
          "output_type": "stream",
          "text": [
            "power_binary_expansion.py  power_iter.py  tests\n",
            "power_by_squaring.py\t   test_reports\n"
          ],
          "name": "stdout"
        }
      ]
    },
    {
      "cell_type": "code",
      "metadata": {
        "id": "dAoCEJot-GLw",
        "colab": {
          "base_uri": "https://localhost:8080/"
        },
        "outputId": "9b4d70fb-6790-4850-a541-debf871f4212"
      },
      "source": [
        "#@title **List full set of tests**\n",
        "!ls tests"
      ],
      "execution_count": 4,
      "outputs": [
        {
          "output_type": "stream",
          "text": [
            "test_0.in   test_2.in\ttest_4.in   test_6.in\ttest_8.in\n",
            "test_0.out  test_2.out\ttest_4.out  test_6.out\ttest_8.out\n",
            "test_1.in   test_3.in\ttest_5.in   test_7.in\ttest_9.in\n",
            "test_1.out  test_3.out\ttest_5.out  test_7.out\ttest_9.out\n"
          ],
          "name": "stdout"
        }
      ]
    },
    {
      "cell_type": "markdown",
      "metadata": {
        "id": "a1TfTPjD_CqR"
      },
      "source": [
        "## **Run tests**"
      ]
    },
    {
      "cell_type": "code",
      "metadata": {
        "id": "h4VW3Bu_CdjJ",
        "colab": {
          "base_uri": "https://localhost:8080/"
        },
        "outputId": "0a027306-9c91-42c8-9829-e8ace41355a7"
      },
      "source": [
        "!tester power_iter.py tests"
      ],
      "execution_count": 5,
      "outputs": [
        {
          "output_type": "stream",
          "text": [
            "Successfully run the power_iter.py. With argument(s) ['2', '10'] got the output of 1024.0.\n",
            "Elapsed time: 0.06s\n",
            "Successfully run the power_iter.py. With argument(s) ['123456789', '0'] got the output of 1.0.\n",
            "Elapsed time: 0.06s\n",
            "Failed run of the power_iter.py with ['1.001', '1000']. The output should be 2.71692393224, but got 2.7169239322355985.\n",
            "Elapsed time: 0.05s\n",
            "Failed run of the power_iter.py with ['1.0001', '10000']. The output should be 2.71814592682, but got 2.7181459268248984.\n",
            "Elapsed time: 0.08s\n",
            "Failed run of the power_iter.py with ['1.00001', '100000']. The output should be 2.71826823719, but got 2.718268237192295.\n",
            "Elapsed time: 0.07s\n",
            "Failed run of the power_iter.py with ['1.000001', '1000000']. The output should be 2.7182804691, but got 2.7182804690959363.\n",
            "Elapsed time: 0.10s\n",
            "Failed run of the power_iter.py with ['1.0000001', '10000000']. The output should be 2.71828169413, but got 2.7182816941320103.\n",
            "Elapsed time: 0.55s\n",
            "Failed run of the power_iter.py with ['1.00000001', '100000000']. The output should be 2.71828179835, but got 2.71828179834636.\n",
            "Elapsed time: 4.63s\n",
            "Failed run of the power_iter.py with ['1.000000001', '1000000000']. The output should be 2.71828205201, but got 2.7182820520118995.\n",
            "Elapsed time: 45.43s\n",
            "Failed run of the power_iter.py with ['1.0000000001', '10000000000']. The output should be 2.71828205323, but got 2.7182820532331595.\n",
            "Elapsed time: 455.33s\n"
          ],
          "name": "stdout"
        }
      ]
    },
    {
      "cell_type": "code",
      "metadata": {
        "id": "yBG4Em_vD9Lj",
        "colab": {
          "base_uri": "https://localhost:8080/"
        },
        "outputId": "0f65d4d2-b4ca-457f-c4e4-036466f97dbe"
      },
      "source": [
        "!tester power_by_squaring.py tests"
      ],
      "execution_count": 6,
      "outputs": [
        {
          "output_type": "stream",
          "text": [
            "Successfully run the power_by_squaring.py. With argument(s) ['2', '10'] got the output of 1024.0.\n",
            "Elapsed time: 0.06s\n",
            "Successfully run the power_by_squaring.py. With argument(s) ['123456789', '0'] got the output of 1.0.\n",
            "Elapsed time: 0.05s\n",
            "Failed run of the power_by_squaring.py with ['1.001', '1000']. The output should be 2.71692393224, but got 2.716923932235562.\n",
            "Elapsed time: 0.05s\n",
            "Failed run of the power_by_squaring.py with ['1.0001', '10000']. The output should be 2.71814592682, but got 2.7181459268244557.\n",
            "Elapsed time: 0.05s\n",
            "Failed run of the power_by_squaring.py with ['1.00001', '100000']. The output should be 2.71826823719, but got 2.718268237195739.\n",
            "Elapsed time: 0.05s\n",
            "Failed run of the power_by_squaring.py with ['1.000001', '1000000']. The output should be 2.7182804691, but got 2.7182804691276115.\n",
            "Elapsed time: 0.07s\n",
            "Failed run of the power_by_squaring.py with ['1.0000001', '10000000']. The output should be 2.71828169413, but got 2.7182816940044554.\n",
            "Elapsed time: 0.12s\n",
            "Failed run of the power_by_squaring.py with ['1.00000001', '100000000']. The output should be 2.71828179835, but got 2.718281790326462.\n",
            "Elapsed time: 1.55s\n",
            "Failed run of the power_by_squaring.py with ['1.000000001', '1000000000']. The output should be 2.71828205201, but got 2.7182820406313954.\n",
            "Elapsed time: 21.28s\n",
            "Failed run of the power_by_squaring.py with ['1.0000000001', '10000000000']. The output should be 2.71828205323, but got 2.7182820448512257.\n",
            "Elapsed time: 65.68s\n"
          ],
          "name": "stdout"
        }
      ]
    },
    {
      "cell_type": "code",
      "metadata": {
        "id": "UL6n6w7sPRM7",
        "colab": {
          "base_uri": "https://localhost:8080/"
        },
        "outputId": "8e8e4182-c2e6-4901-bc04-ecd0ed89f4b1"
      },
      "source": [
        "!tester power_binary_expansion.py tests"
      ],
      "execution_count": 7,
      "outputs": [
        {
          "output_type": "stream",
          "text": [
            "Successfully run the power_binary_expansion.py. With argument(s) ['2', '10'] got the output of 1024.0.\n",
            "Elapsed time: 0.05s\n",
            "Successfully run the power_binary_expansion.py. With argument(s) ['123456789', '0'] got the output of 1.0.\n",
            "Elapsed time: 0.05s\n",
            "Failed run of the power_binary_expansion.py with ['1.001', '1000']. The output should be 2.71692393224, but got 2.7169239322355203.\n",
            "Elapsed time: 0.05s\n",
            "Failed run of the power_binary_expansion.py with ['1.0001', '10000']. The output should be 2.71814592682, but got 2.718145926824356.\n",
            "Elapsed time: 0.05s\n",
            "Failed run of the power_binary_expansion.py with ['1.00001', '100000']. The output should be 2.71826823719, but got 2.7182682371975284.\n",
            "Elapsed time: 0.05s\n",
            "Failed run of the power_binary_expansion.py with ['1.000001', '1000000']. The output should be 2.7182804691, but got 2.7182804691564275.\n",
            "Elapsed time: 0.04s\n",
            "Failed run of the power_binary_expansion.py with ['1.0000001', '10000000']. The output should be 2.71828169413, but got 2.7182816939803724.\n",
            "Elapsed time: 0.05s\n",
            "Failed run of the power_binary_expansion.py with ['1.00000001', '100000000']. The output should be 2.71828179835, but got 2.7182817863957975.\n",
            "Elapsed time: 0.05s\n",
            "Failed run of the power_binary_expansion.py with ['1.000000001', '1000000000']. The output should be 2.71828205201, but got 2.7182820308145095.\n",
            "Elapsed time: 0.04s\n",
            "Failed run of the power_binary_expansion.py with ['1.0000000001', '10000000000']. The output should be 2.71828205323, but got 2.718282043475248.\n",
            "Elapsed time: 0.05s\n"
          ],
          "name": "stdout"
        }
      ]
    }
  ]
}