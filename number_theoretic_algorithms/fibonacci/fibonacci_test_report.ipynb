{
  "nbformat": 4,
  "nbformat_minor": 0,
  "metadata": {
    "colab": {
      "name": "fibonacci_test_report.ipynb",
      "provenance": [],
      "collapsed_sections": [
        "BeoODPA7RRjC"
      ],
      "include_colab_link": true
    },
    "kernelspec": {
      "name": "python3",
      "display_name": "Python 3"
    }
  },
  "cells": [
    {
      "cell_type": "markdown",
      "metadata": {
        "id": "view-in-github",
        "colab_type": "text"
      },
      "source": [
        "<a href=\"https://colab.research.google.com/github/FilippSolovev/algorithms/blob/master/number_theoretic_algorithms/fibonacci/fibonacci_test_report.ipynb\" target=\"_parent\"><img src=\"https://colab.research.google.com/assets/colab-badge.svg\" alt=\"Open In Colab\"/></a>"
      ]
    },
    {
      "cell_type": "markdown",
      "metadata": {
        "id": "BeoODPA7RRjC"
      },
      "source": [
        "## **Preparation steps**"
      ]
    },
    {
      "cell_type": "code",
      "metadata": {
        "id": "YEkioJEAl48b",
        "colab": {
          "base_uri": "https://localhost:8080/"
        },
        "outputId": "5960a4e1-e714-4f71-8583-0540da0a7c5d"
      },
      "source": [
        "#@title **Clone the repository**\n",
        "!git clone https://github.com/FilippSolovev/algorithms.git\n",
        "!ls"
      ],
      "execution_count": null,
      "outputs": [
        {
          "output_type": "stream",
          "text": [
            "Cloning into 'algorithms'...\n",
            "remote: Enumerating objects: 300, done.\u001b[K\n",
            "remote: Counting objects: 100% (300/300), done.\u001b[K\n",
            "remote: Compressing objects: 100% (166/166), done.\u001b[K\n",
            "remote: Total 300 (delta 91), reused 251 (delta 47), pack-reused 0\u001b[K\n",
            "Receiving objects: 100% (300/300), 2.65 MiB | 6.57 MiB/s, done.\n",
            "Resolving deltas: 100% (91/91), done.\n",
            "algorithms\t\t   power_by_squaring.py  power_test_report.ipynb  tests\n",
            "power_binary_expansion.py  power_iter.py\t test_reports\n"
          ],
          "name": "stdout"
        }
      ]
    },
    {
      "cell_type": "code",
      "metadata": {
        "id": "2Q3HCPzRmPE5",
        "colab": {
          "base_uri": "https://localhost:8080/"
        },
        "outputId": "4a804a08-a68a-421a-dd76-a952db8e706a"
      },
      "source": [
        "#@title **Install the Naive Tester Package**\n",
        "!pip install naive-tester"
      ],
      "execution_count": null,
      "outputs": [
        {
          "output_type": "stream",
          "text": [
            "Collecting naive-tester\n",
            "  Downloading https://files.pythonhosted.org/packages/f0/85/a5876a3ea4cad7983e37b0db1a93e83708cbef78a911b969f53717216f11/naive_tester-1.2.0-py3-none-any.whl\n",
            "Installing collected packages: naive-tester\n",
            "Successfully installed naive-tester-1.2.0\n"
          ],
          "name": "stdout"
        }
      ]
    },
    {
      "cell_type": "code",
      "metadata": {
        "id": "ZURYt2Y5mV4Q",
        "colab": {
          "base_uri": "https://localhost:8080/"
        },
        "outputId": "ef97ee2f-e575-468a-abc0-d9cd6bc7f77e"
      },
      "source": [
        "#@title **Change the working directory**\n",
        "\n",
        "import os\n",
        "\n",
        "os.chdir('algorithms/number_theoretic_algorithms/fibonacci/')\n",
        "\n",
        "!ls"
      ],
      "execution_count": null,
      "outputs": [
        {
          "output_type": "stream",
          "text": [
            "fib_golden_ratio.py  test_report_golden_ratio.txt  tests\n",
            "fib_iter.py\t     test_report_matrix.txt\n",
            "fib_matrix.py\t     test_reports\n"
          ],
          "name": "stdout"
        }
      ]
    },
    {
      "cell_type": "code",
      "metadata": {
        "id": "dAoCEJot-GLw",
        "colab": {
          "base_uri": "https://localhost:8080/"
        },
        "outputId": "e9aa213e-d695-4e26-e2d4-4961d9ac7f77"
      },
      "source": [
        "#@title **List full set of tests**\n",
        "!ls tests"
      ],
      "execution_count": null,
      "outputs": [
        {
          "output_type": "stream",
          "text": [
            "test_0.in    test_11.out  test_2.in   test_4.out  test_7.in   test_9.out\n",
            "test_0.out   test_12.in   test_2.out  test_5.in   test_7.out\n",
            "test_10.in   test_12.out  test_3.in   test_5.out  test_8.in\n",
            "test_10.out  test_1.in\t  test_3.out  test_6.in   test_8.out\n",
            "test_11.in   test_1.out   test_4.in   test_6.out  test_9.in\n"
          ],
          "name": "stdout"
        }
      ]
    },
    {
      "cell_type": "code",
      "metadata": {
        "colab": {
          "base_uri": "https://localhost:8080/"
        },
        "id": "DPXNQuWBvyIx",
        "outputId": "9fbc0594-401f-48d5-9c96-4f7f3e3fae54"
      },
      "source": [
        "#@title **Exclude heavy tests**\n",
        "!rm tests/test_1*.*\n",
        "!ls tests"
      ],
      "execution_count": null,
      "outputs": [
        {
          "output_type": "stream",
          "text": [
            "rm: cannot remove 'tests/test_1*.*': No such file or directory\n",
            "test_0.in   test_2.out\ttest_4.in   test_5.out\ttest_7.in   test_8.out\n",
            "test_0.out  test_3.in\ttest_4.out  test_6.in\ttest_7.out  test_9.in\n",
            "test_2.in   test_3.out\ttest_5.in   test_6.out\ttest_8.in   test_9.out\n"
          ],
          "name": "stdout"
        }
      ]
    },
    {
      "cell_type": "markdown",
      "metadata": {
        "id": "a1TfTPjD_CqR"
      },
      "source": [
        "## **Run tests**"
      ]
    },
    {
      "cell_type": "code",
      "metadata": {
        "id": "h4VW3Bu_CdjJ",
        "colab": {
          "base_uri": "https://localhost:8080/"
        },
        "outputId": "456f68af-aa68-4bc4-f3dd-43bb1c8462d2"
      },
      "source": [
        "!tester fib_iter.py tests"
      ],
      "execution_count": null,
      "outputs": [
        {
          "output_type": "stream",
          "text": [
            "Successfully run the fib_iter.py. With argument(s) ['0'] got the output of 0.\n",
            "Elapsed time: 0.04s\n",
            "Successfully run the fib_iter.py. With argument(s) ['2'] got the output of 1.\n",
            "Elapsed time: 0.04s\n",
            "Successfully run the fib_iter.py. With argument(s) ['3'] got the output of 2.\n",
            "Elapsed time: 0.04s\n",
            "Successfully run the fib_iter.py. With argument(s) ['4'] got the output of 3.\n",
            "Elapsed time: 0.04s\n",
            "Successfully run the fib_iter.py. With argument(s) ['5'] got the output of 5.\n",
            "Elapsed time: 0.04s\n",
            "Successfully run the fib_iter.py. With argument(s) ['10'] got the output of 55.\n",
            "Elapsed time: 0.04s\n",
            "Successfully run the fib_iter.py. With argument(s) ['100'] got the output of 354224848179261915075.\n",
            "Elapsed time: 0.04s\n",
            "Successfully run the fib_iter.py. With argument(s) ['1000'] got the output of 43466557686937456435688527675040625802564660517371780402481729089536555417949051890403879840079255169295922593080322634775209689623239873322471161642996440906533187938298969649928516003704476137795166849228875.\n",
            "Elapsed time: 0.04s\n",
            "Successfully run the fib_iter.py. With argument(s) ['10000'] got the output of 33644764876431783266621612005107543310302148460680063906564769974680081442166662368155595513633734025582065332680836159373734790483865268263040892463056431887354544369559827491606602099884183933864652731300088830269235673613135117579297437854413752130520504347701602264758318906527890855154366159582987279682987510631200575428783453215515103870818298969791613127856265033195487140214287532698187962046936097879900350962302291026368131493195275630227837628441540360584402572114334961180023091208287046088923962328835461505776583271252546093591128203925285393434620904245248929403901706233888991085841065183173360437470737908552631764325733993712871937587746897479926305837065742830161637408969178426378624212835258112820516370298089332099905707920064367426202389783111470054074998459250360633560933883831923386783056136435351892133279732908133732642652633989763922723407882928177953580570993691049175470808931841056146322338217465637321248226383092103297701648054726243842374862411453093812206564914032751086643394517512161526545361333111314042436854805106765843493523836959653428071768775328348234345557366719731392746273629108210679280784718035329131176778924659089938635459327894523777674406192240337638674004021330343297496902028328145933418826817683893072003634795623117103101291953169794607632737589253530772552375943788434504067715555779056450443016640119462580972216729758615026968443146952034614932291105970676243268515992834709891284706740862008587135016260312071903172086094081298321581077282076353186624611278245537208532365305775956430072517744315051539600905168603220349163222640885248852433158051534849622434848299380905070483482449327453732624567755879089187190803662058009594743150052402532709746995318770724376825907419939632265984147498193609285223945039707165443156421328157688908058783183404917434556270520223564846495196112460268313970975069382648706613264507665074611512677522748621598642530711298441182622661057163515069260029861704945425047491378115154139941550671256271197133252763631939606902895650288268608362241082050562430701794976171121233066073310059947366875.\n",
            "Elapsed time: 0.04s\n"
          ],
          "name": "stdout"
        }
      ]
    },
    {
      "cell_type": "code",
      "metadata": {
        "id": "yBG4Em_vD9Lj",
        "colab": {
          "base_uri": "https://localhost:8080/"
        },
        "outputId": "cccd7c04-70b8-426e-d1a4-886bf637aeae"
      },
      "source": [
        "!tester fib_golden_ratio.py tests"
      ],
      "execution_count": null,
      "outputs": [
        {
          "output_type": "stream",
          "text": [
            "Successfully run the fib_golden_ratio.py. With argument(s) ['0'] got the output of 0.\n",
            "Elapsed time: 0.04s\n",
            "Successfully run the fib_golden_ratio.py. With argument(s) ['2'] got the output of 1.\n",
            "Elapsed time: 0.04s\n",
            "Successfully run the fib_golden_ratio.py. With argument(s) ['3'] got the output of 2.\n",
            "Elapsed time: 0.04s\n",
            "Successfully run the fib_golden_ratio.py. With argument(s) ['4'] got the output of 3.\n",
            "Elapsed time: 0.04s\n",
            "Successfully run the fib_golden_ratio.py. With argument(s) ['5'] got the output of 5.\n",
            "Elapsed time: 0.04s\n",
            "Successfully run the fib_golden_ratio.py. With argument(s) ['10'] got the output of 55.\n",
            "Elapsed time: 0.04s\n",
            "Failed run of the fib_golden_ratio.py with ['100']. The output should be 354224848179261915075, but got 354224848179263111168.\n",
            "Elapsed time: 0.04s\n",
            "Failed run of the fib_golden_ratio.py with ['1000']. The output should be 43466557686937456435688527675040625802564660517371780402481729089536555417949051890403879840079255169295922593080322634775209689623239873322471161642996440906533187938298969649928516003704476137795166849228875, but got 43466557686938914862637500386755014010958388901725051132915256476112292920052539720295234060457458057800732025086130975998716977051839168242483814062805283311821051327273518050882075662659534523370463746326528.\n",
            "Elapsed time: 0.04s\n",
            "Traceback (most recent call last):\n",
            "  File \"fib_golden_ratio.py\", line 46, in <module>\n",
            "    main()\n",
            "  File \"fib_golden_ratio.py\", line 41, in main\n",
            "    output = fibonacci_golden_ratio(num)\n",
            "  File \"fib_golden_ratio.py\", line 32, in fibonacci_golden_ratio\n",
            "    return int(phi**num / sqrt(5) + 0.5)\n",
            "OverflowError: (34, 'Numerical result out of range')\n",
            "Failed run of the fib_golden_ratio.py with ['10000']. The output should be 33644764876431783266621612005107543310302148460680063906564769974680081442166662368155595513633734025582065332680836159373734790483865268263040892463056431887354544369559827491606602099884183933864652731300088830269235673613135117579297437854413752130520504347701602264758318906527890855154366159582987279682987510631200575428783453215515103870818298969791613127856265033195487140214287532698187962046936097879900350962302291026368131493195275630227837628441540360584402572114334961180023091208287046088923962328835461505776583271252546093591128203925285393434620904245248929403901706233888991085841065183173360437470737908552631764325733993712871937587746897479926305837065742830161637408969178426378624212835258112820516370298089332099905707920064367426202389783111470054074998459250360633560933883831923386783056136435351892133279732908133732642652633989763922723407882928177953580570993691049175470808931841056146322338217465637321248226383092103297701648054726243842374862411453093812206564914032751086643394517512161526545361333111314042436854805106765843493523836959653428071768775328348234345557366719731392746273629108210679280784718035329131176778924659089938635459327894523777674406192240337638674004021330343297496902028328145933418826817683893072003634795623117103101291953169794607632737589253530772552375943788434504067715555779056450443016640119462580972216729758615026968443146952034614932291105970676243268515992834709891284706740862008587135016260312071903172086094081298321581077282076353186624611278245537208532365305775956430072517744315051539600905168603220349163222640885248852433158051534849622434848299380905070483482449327453732624567755879089187190803662058009594743150052402532709746995318770724376825907419939632265984147498193609285223945039707165443156421328157688908058783183404917434556270520223564846495196112460268313970975069382648706613264507665074611512677522748621598642530711298441182622661057163515069260029861704945425047491378115154139941550671256271197133252763631939606902895650288268608362241082050562430701794976171121233066073310059947366875, but got .\n",
            "Elapsed time: 0.04s\n"
          ],
          "name": "stdout"
        }
      ]
    },
    {
      "cell_type": "code",
      "metadata": {
        "id": "UL6n6w7sPRM7",
        "colab": {
          "base_uri": "https://localhost:8080/"
        },
        "outputId": "a70abc7d-f69a-4025-aaf1-39783da98e54"
      },
      "source": [
        "!tester fib_matrix.py tests"
      ],
      "execution_count": null,
      "outputs": [
        {
          "output_type": "stream",
          "text": [
            "Successfully run the fib_matrix.py. With argument(s) ['0'] got the output of 0.\n",
            "Elapsed time: 0.04s\n",
            "Successfully run the fib_matrix.py. With argument(s) ['2'] got the output of 1.\n",
            "Elapsed time: 0.04s\n",
            "Successfully run the fib_matrix.py. With argument(s) ['3'] got the output of 2.\n",
            "Elapsed time: 0.04s\n",
            "Successfully run the fib_matrix.py. With argument(s) ['4'] got the output of 3.\n",
            "Elapsed time: 0.04s\n",
            "Successfully run the fib_matrix.py. With argument(s) ['5'] got the output of 5.\n",
            "Elapsed time: 0.04s\n",
            "Successfully run the fib_matrix.py. With argument(s) ['10'] got the output of 55.\n",
            "Elapsed time: 0.04s\n",
            "Successfully run the fib_matrix.py. With argument(s) ['100'] got the output of 354224848179261915075.\n",
            "Elapsed time: 0.04s\n",
            "Successfully run the fib_matrix.py. With argument(s) ['1000'] got the output of 43466557686937456435688527675040625802564660517371780402481729089536555417949051890403879840079255169295922593080322634775209689623239873322471161642996440906533187938298969649928516003704476137795166849228875.\n",
            "Elapsed time: 0.04s\n",
            "Successfully run the fib_matrix.py. With argument(s) ['10000'] got the output of 33644764876431783266621612005107543310302148460680063906564769974680081442166662368155595513633734025582065332680836159373734790483865268263040892463056431887354544369559827491606602099884183933864652731300088830269235673613135117579297437854413752130520504347701602264758318906527890855154366159582987279682987510631200575428783453215515103870818298969791613127856265033195487140214287532698187962046936097879900350962302291026368131493195275630227837628441540360584402572114334961180023091208287046088923962328835461505776583271252546093591128203925285393434620904245248929403901706233888991085841065183173360437470737908552631764325733993712871937587746897479926305837065742830161637408969178426378624212835258112820516370298089332099905707920064367426202389783111470054074998459250360633560933883831923386783056136435351892133279732908133732642652633989763922723407882928177953580570993691049175470808931841056146322338217465637321248226383092103297701648054726243842374862411453093812206564914032751086643394517512161526545361333111314042436854805106765843493523836959653428071768775328348234345557366719731392746273629108210679280784718035329131176778924659089938635459327894523777674406192240337638674004021330343297496902028328145933418826817683893072003634795623117103101291953169794607632737589253530772552375943788434504067715555779056450443016640119462580972216729758615026968443146952034614932291105970676243268515992834709891284706740862008587135016260312071903172086094081298321581077282076353186624611278245537208532365305775956430072517744315051539600905168603220349163222640885248852433158051534849622434848299380905070483482449327453732624567755879089187190803662058009594743150052402532709746995318770724376825907419939632265984147498193609285223945039707165443156421328157688908058783183404917434556270520223564846495196112460268313970975069382648706613264507665074611512677522748621598642530711298441182622661057163515069260029861704945425047491378115154139941550671256271197133252763631939606902895650288268608362241082050562430701794976171121233066073310059947366875.\n",
            "Elapsed time: 0.05s\n"
          ],
          "name": "stdout"
        }
      ]
    }
  ]
}