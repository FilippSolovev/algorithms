{
  "nbformat": 4,
  "nbformat_minor": 0,
  "metadata": {
    "colab": {
      "name": "primes_test_report.ipynb",
      "provenance": [],
      "collapsed_sections": [],
      "include_colab_link": true
    },
    "kernelspec": {
      "name": "python3",
      "display_name": "Python 3"
    }
  },
  "cells": [
    {
      "cell_type": "markdown",
      "metadata": {
        "id": "view-in-github",
        "colab_type": "text"
      },
      "source": [
        "<a href=\"https://colab.research.google.com/github/FilippSolovev/algorithms/blob/master/number_theoretic_algorithms/primes/primes_test_report.ipynb\" target=\"_parent\"><img src=\"https://colab.research.google.com/assets/colab-badge.svg\" alt=\"Open In Colab\"/></a>"
      ]
    },
    {
      "cell_type": "markdown",
      "metadata": {
        "id": "BeoODPA7RRjC"
      },
      "source": [
        "## **Preparation steps**"
      ]
    },
    {
      "cell_type": "code",
      "metadata": {
        "id": "YEkioJEAl48b",
        "colab": {
          "base_uri": "https://localhost:8080/"
        },
        "outputId": "c74a4aaf-0903-4733-ce74-b0f2903f021b"
      },
      "source": [
        "#@title **Clone the repository**\n",
        "!git clone https://github.com/FilippSolovev/algorithms.git\n",
        "!ls"
      ],
      "execution_count": 1,
      "outputs": [
        {
          "output_type": "stream",
          "text": [
            "Cloning into 'algorithms'...\n",
            "remote: Enumerating objects: 321, done.\u001b[K\n",
            "remote: Counting objects: 100% (321/321), done.\u001b[K\n",
            "remote: Compressing objects: 100% (184/184), done.\u001b[K\n",
            "remote: Total 321 (delta 105), reused 256 (delta 50), pack-reused 0\u001b[K\n",
            "Receiving objects: 100% (321/321), 2.67 MiB | 4.99 MiB/s, done.\n",
            "Resolving deltas: 100% (105/105), done.\n",
            "algorithms  sample_data\n"
          ],
          "name": "stdout"
        }
      ]
    },
    {
      "cell_type": "code",
      "metadata": {
        "id": "2Q3HCPzRmPE5",
        "colab": {
          "base_uri": "https://localhost:8080/"
        },
        "outputId": "66405ffd-09ab-4159-b29b-54993d8ac559"
      },
      "source": [
        "#@title **Install the Naive Tester Package**\n",
        "!pip install naive-tester"
      ],
      "execution_count": 2,
      "outputs": [
        {
          "output_type": "stream",
          "text": [
            "Collecting naive-tester\n",
            "  Downloading https://files.pythonhosted.org/packages/f0/85/a5876a3ea4cad7983e37b0db1a93e83708cbef78a911b969f53717216f11/naive_tester-1.2.0-py3-none-any.whl\n",
            "Installing collected packages: naive-tester\n",
            "Successfully installed naive-tester-1.2.0\n"
          ],
          "name": "stdout"
        }
      ]
    },
    {
      "cell_type": "code",
      "metadata": {
        "id": "ZURYt2Y5mV4Q",
        "colab": {
          "base_uri": "https://localhost:8080/"
        },
        "outputId": "9d6bd2ed-718e-4c44-dff5-01eb673b28aa"
      },
      "source": [
        "#@title **Change the working directory**\n",
        "\n",
        "import os\n",
        "\n",
        "os.chdir('algorithms/number_theoretic_algorithms/primes/')\n",
        "\n",
        "!ls"
      ],
      "execution_count": 3,
      "outputs": [
        {
          "output_type": "stream",
          "text": [
            "eratosthenes_linear.py\tprimes_iter_opt.py  primes_memo.py\t      tests\n",
            "eratosthenes.py\t\tprimes_iter.py\t    primes_test_report.ipynb\n"
          ],
          "name": "stdout"
        }
      ]
    },
    {
      "cell_type": "code",
      "metadata": {
        "id": "dAoCEJot-GLw",
        "colab": {
          "base_uri": "https://localhost:8080/"
        },
        "outputId": "1b787e99-31e9-4783-86ec-bc7795da9f46"
      },
      "source": [
        "#@title **List full set of tests**\n",
        "!ls tests"
      ],
      "execution_count": 4,
      "outputs": [
        {
          "output_type": "stream",
          "text": [
            "test_0.in    test_11.out  test_14.in   test_2.out  test_5.in   test_7.out\n",
            "test_0.out   test_12.in   test_14.out  test_3.in   test_5.out  test_8.in\n",
            "test_10.in   test_12.out  test_1.in    test_3.out  test_6.in   test_8.out\n",
            "test_10.out  test_13.in   test_1.out   test_4.in   test_6.out  test_9.in\n",
            "test_11.in   test_13.out  test_2.in    test_4.out  test_7.in   test_9.out\n"
          ],
          "name": "stdout"
        }
      ]
    },
    {
      "cell_type": "code",
      "metadata": {
        "id": "D1Ioab6YN7OS",
        "colab": {
          "base_uri": "https://localhost:8080/"
        },
        "outputId": "187abdab-b916-4ad0-d430-5540c1994506"
      },
      "source": [
        "#@title **Create another set of tests without heavy ones**\n",
        "!cp -r tests tests_reduced\n",
        "\n",
        "# exclude test with 100000000 input\n",
        "!rm tests_reduced/test_12.*\n",
        "# exclude test with 1000000000 input\n",
        "!rm tests_reduced/test_13.*\n",
        "# exclude test with 123456789 input\n",
        "!rm tests_reduced/test_14.*\n",
        "!ls tests_reduced"
      ],
      "execution_count": 5,
      "outputs": [
        {
          "output_type": "stream",
          "text": [
            "test_0.in    test_11.in   test_2.in   test_4.in   test_6.in   test_8.in\n",
            "test_0.out   test_11.out  test_2.out  test_4.out  test_6.out  test_8.out\n",
            "test_10.in   test_1.in\t  test_3.in   test_5.in   test_7.in   test_9.in\n",
            "test_10.out  test_1.out   test_3.out  test_5.out  test_7.out  test_9.out\n"
          ],
          "name": "stdout"
        }
      ]
    },
    {
      "cell_type": "markdown",
      "metadata": {
        "id": "a1TfTPjD_CqR"
      },
      "source": [
        "## **Run tests**"
      ]
    },
    {
      "cell_type": "code",
      "metadata": {
        "id": "h4VW3Bu_CdjJ",
        "colab": {
          "base_uri": "https://localhost:8080/"
        },
        "outputId": "ffd1ceea-1e52-4d04-c4b2-d6d551aae84d"
      },
      "source": [
        "!tester eratosthenes_linear.py tests"
      ],
      "execution_count": null,
      "outputs": [
        {
          "output_type": "stream",
          "text": [
            "Successfully run the eratosthenes_linear.py. With argument(s) ['10'] got the output of 4.\n",
            "Elapsed time: 0.04s\n",
            "Successfully run the eratosthenes_linear.py. With argument(s) ['1'] got the output of 0.\n",
            "Elapsed time: 0.05s\n",
            "Successfully run the eratosthenes_linear.py. With argument(s) ['1000000'] got the output of 78498.\n",
            "Elapsed time: 0.37s\n",
            "Successfully run the eratosthenes_linear.py. With argument(s) ['10000000'] got the output of 664579.\n",
            "Elapsed time: 3.49s\n",
            "Successfully run the eratosthenes_linear.py. With argument(s) ['100000000'] got the output of 5761455.\n",
            "Elapsed time: 34.02s\n",
            "tcmalloc: large alloc 8000004096 bytes == 0x2d12000 @  0x7f4f55244001 0x5ab8cb 0x5829c4 0x582a43 0x50d064 0x5095c8 0x50a2fd 0x50beb4 0x5095c8 0x50a2fd 0x50beb4 0x507be4 0x50ad03 0x634e72 0x634f27 0x6386df 0x639281 0x4b0dc0 0x7f4f54e3fbf7 0x5b259a\n",
            "Successfully run the eratosthenes_linear.py. With argument(s) ['1000000000'] got the output of 50847534.\n",
            "Elapsed time: 347.33s\n",
            "Successfully run the eratosthenes_linear.py. With argument(s) ['123456789'] got the output of 7027260.\n",
            "Elapsed time: 42.58s\n",
            "Successfully run the eratosthenes_linear.py. With argument(s) ['2'] got the output of 1.\n",
            "Elapsed time: 0.04s\n",
            "Successfully run the eratosthenes_linear.py. With argument(s) ['3'] got the output of 2.\n",
            "Elapsed time: 0.04s\n",
            "Successfully run the eratosthenes_linear.py. With argument(s) ['4'] got the output of 2.\n",
            "Elapsed time: 0.04s\n",
            "Successfully run the eratosthenes_linear.py. With argument(s) ['5'] got the output of 3.\n",
            "Elapsed time: 0.04s\n",
            "Successfully run the eratosthenes_linear.py. With argument(s) ['100'] got the output of 25.\n",
            "Elapsed time: 0.04s\n",
            "Successfully run the eratosthenes_linear.py. With argument(s) ['1000'] got the output of 168.\n",
            "Elapsed time: 0.04s\n",
            "Successfully run the eratosthenes_linear.py. With argument(s) ['10000'] got the output of 1229.\n",
            "Elapsed time: 0.04s\n",
            "Successfully run the eratosthenes_linear.py. With argument(s) ['100000'] got the output of 9592.\n",
            "Elapsed time: 0.08s\n"
          ],
          "name": "stdout"
        }
      ]
    },
    {
      "cell_type": "code",
      "metadata": {
        "id": "_8i3g0Vv8zdB",
        "colab": {
          "base_uri": "https://localhost:8080/"
        },
        "outputId": "77be1247-0a36-41c0-ef0b-e3bd352f2895"
      },
      "source": [
        "!tester eratosthenes.py tests "
      ],
      "execution_count": null,
      "outputs": [
        {
          "output_type": "stream",
          "text": [
            "Successfully run the eratosthenes.py. With argument(s) ['10'] got the output of 4.\n",
            "Elapsed time: 0.03s\n",
            "Successfully run the eratosthenes.py. With argument(s) ['1'] got the output of 0.\n",
            "Elapsed time: 0.03s\n",
            "Successfully run the eratosthenes.py. With argument(s) ['1000000'] got the output of 78498.\n",
            "Elapsed time: 0.21s\n",
            "Successfully run the eratosthenes.py. With argument(s) ['10000000'] got the output of 664579.\n",
            "Elapsed time: 1.92s\n",
            "Successfully run the eratosthenes.py. With argument(s) ['100000000'] got the output of 5761455.\n",
            "Elapsed time: 20.67s\n",
            "tcmalloc: large alloc 8000004096 bytes == 0x2da8000 @  0x7fdcbf415001 0x5ab8cb 0x5829c4 0x582a43 0x50d064 0x5095c8 0x50a2fd 0x50beb4 0x5095c8 0x50a2fd 0x50beb4 0x507be4 0x50ad03 0x634e72 0x634f27 0x6386df 0x639281 0x4b0dc0 0x7fdcbf010bf7 0x5b259a\n",
            "Successfully run the eratosthenes.py. With argument(s) ['1000000000'] got the output of 50847534.\n",
            "Elapsed time: 237.33s\n",
            "Successfully run the eratosthenes.py. With argument(s) ['123456789'] got the output of 7027260.\n",
            "Elapsed time: 26.01s\n",
            "Successfully run the eratosthenes.py. With argument(s) ['2'] got the output of 1.\n",
            "Elapsed time: 0.04s\n",
            "Successfully run the eratosthenes.py. With argument(s) ['3'] got the output of 2.\n",
            "Elapsed time: 0.04s\n",
            "Successfully run the eratosthenes.py. With argument(s) ['4'] got the output of 2.\n",
            "Elapsed time: 0.04s\n",
            "Successfully run the eratosthenes.py. With argument(s) ['5'] got the output of 3.\n",
            "Elapsed time: 0.04s\n",
            "Successfully run the eratosthenes.py. With argument(s) ['100'] got the output of 25.\n",
            "Elapsed time: 0.04s\n",
            "Successfully run the eratosthenes.py. With argument(s) ['1000'] got the output of 168.\n",
            "Elapsed time: 0.05s\n",
            "Successfully run the eratosthenes.py. With argument(s) ['10000'] got the output of 1229.\n",
            "Elapsed time: 0.04s\n",
            "Successfully run the eratosthenes.py. With argument(s) ['100000'] got the output of 9592.\n",
            "Elapsed time: 0.06s\n"
          ],
          "name": "stdout"
        }
      ]
    },
    {
      "cell_type": "code",
      "metadata": {
        "id": "yBG4Em_vD9Lj",
        "colab": {
          "base_uri": "https://localhost:8080/"
        },
        "outputId": "f6029ca8-80e8-447e-8283-fa44787fce77"
      },
      "source": [
        "!tester primes_memo.py tests_reduced"
      ],
      "execution_count": null,
      "outputs": [
        {
          "output_type": "stream",
          "text": [
            "Successfully run the primes_memo.py. With argument(s) ['10'] got the output of 4.\n",
            "Elapsed time: 0.03s\n",
            "Successfully run the primes_memo.py. With argument(s) ['1'] got the output of 0.\n",
            "Elapsed time: 0.03s\n",
            "Successfully run the primes_memo.py. With argument(s) ['1000000'] got the output of 78498.\n",
            "Elapsed time: 2.60s\n",
            "Successfully run the primes_memo.py. With argument(s) ['10000000'] got the output of 664579.\n",
            "Elapsed time: 51.31s\n",
            "Successfully run the primes_memo.py. With argument(s) ['123456789'] got the output of 7027260.\n",
            "Elapsed time: 1624.08s\n",
            "Successfully run the primes_memo.py. With argument(s) ['2'] got the output of 1.\n",
            "Elapsed time: 0.05s\n",
            "Successfully run the primes_memo.py. With argument(s) ['3'] got the output of 2.\n",
            "Elapsed time: 0.05s\n",
            "Successfully run the primes_memo.py. With argument(s) ['4'] got the output of 2.\n",
            "Elapsed time: 0.04s\n",
            "Successfully run the primes_memo.py. With argument(s) ['5'] got the output of 3.\n",
            "Elapsed time: 0.03s\n",
            "Successfully run the primes_memo.py. With argument(s) ['100'] got the output of 25.\n",
            "Elapsed time: 0.03s\n",
            "Successfully run the primes_memo.py. With argument(s) ['1000'] got the output of 168.\n",
            "Elapsed time: 0.03s\n",
            "Successfully run the primes_memo.py. With argument(s) ['10000'] got the output of 1229.\n",
            "Elapsed time: 0.04s\n",
            "Successfully run the primes_memo.py. With argument(s) ['100000'] got the output of 9592.\n",
            "Elapsed time: 0.17s\n"
          ],
          "name": "stdout"
        }
      ]
    },
    {
      "cell_type": "code",
      "metadata": {
        "id": "UL6n6w7sPRM7",
        "colab": {
          "base_uri": "https://localhost:8080/"
        },
        "outputId": "36e6828a-619e-4de4-c9b4-9d83568d334a"
      },
      "source": [
        "!tester primes_iter_opt.py tests_reduced"
      ],
      "execution_count": null,
      "outputs": [
        {
          "output_type": "stream",
          "text": [
            "Successfully run the primes_iter_opt.py. With argument(s) ['10'] got the output of 4.\n",
            "Elapsed time: 0.04s\n",
            "Successfully run the primes_iter_opt.py. With argument(s) ['1'] got the output of 0.\n",
            "Elapsed time: 0.05s\n",
            "Successfully run the primes_iter_opt.py. With argument(s) ['1000000'] got the output of 78498.\n",
            "Elapsed time: 2.54s\n",
            "Successfully run the primes_iter_opt.py. With argument(s) ['10000000'] got the output of 664579.\n",
            "Elapsed time: 62.38s\n",
            "Successfully run the primes_iter_opt.py. With argument(s) ['2'] got the output of 1.\n",
            "Elapsed time: 0.04s\n",
            "Successfully run the primes_iter_opt.py. With argument(s) ['3'] got the output of 2.\n",
            "Elapsed time: 0.04s\n",
            "Successfully run the primes_iter_opt.py. With argument(s) ['4'] got the output of 2.\n",
            "Elapsed time: 0.05s\n",
            "Successfully run the primes_iter_opt.py. With argument(s) ['5'] got the output of 3.\n",
            "Elapsed time: 0.04s\n",
            "Successfully run the primes_iter_opt.py. With argument(s) ['100'] got the output of 25.\n",
            "Elapsed time: 0.05s\n",
            "Successfully run the primes_iter_opt.py. With argument(s) ['1000'] got the output of 168.\n",
            "Elapsed time: 0.05s\n",
            "Successfully run the primes_iter_opt.py. With argument(s) ['10000'] got the output of 1229.\n",
            "Elapsed time: 0.05s\n",
            "Successfully run the primes_iter_opt.py. With argument(s) ['100000'] got the output of 9592.\n",
            "Elapsed time: 0.15s\n"
          ],
          "name": "stdout"
        }
      ]
    },
    {
      "cell_type": "code",
      "metadata": {
        "id": "7JVCKv8ZjmaE"
      },
      "source": [
        "# for the iterative algorithm let's exclude tests with long run time\n",
        "# exclude test with 1000000 input\n",
        "!rm tests_reduced/test_10.*\n",
        "# exclude test with 10000000 input\n",
        "!rm tests_reduced/test_11.*"
      ],
      "execution_count": null,
      "outputs": []
    },
    {
      "cell_type": "code",
      "metadata": {
        "id": "G1uklOl-PXij",
        "colab": {
          "base_uri": "https://localhost:8080/"
        },
        "outputId": "bbd88d0e-ecc2-4876-e75f-17eca9ab9ed2"
      },
      "source": [
        "!tester primes_iter.py tests_reduced"
      ],
      "execution_count": null,
      "outputs": [
        {
          "output_type": "stream",
          "text": [
            "Successfully run the primes_iter.py. With argument(s) ['10'] got the output of 4.\n",
            "Elapsed time: 0.04s\n",
            "Successfully run the primes_iter.py. With argument(s) ['1'] got the output of 0.\n",
            "Elapsed time: 0.05s\n",
            "Successfully run the primes_iter.py. With argument(s) ['2'] got the output of 1.\n",
            "Elapsed time: 0.04s\n",
            "Successfully run the primes_iter.py. With argument(s) ['3'] got the output of 2.\n",
            "Elapsed time: 0.04s\n",
            "Successfully run the primes_iter.py. With argument(s) ['4'] got the output of 2.\n",
            "Elapsed time: 0.05s\n",
            "Successfully run the primes_iter.py. With argument(s) ['5'] got the output of 3.\n",
            "Elapsed time: 0.05s\n",
            "Successfully run the primes_iter.py. With argument(s) ['100'] got the output of 25.\n",
            "Elapsed time: 0.05s\n",
            "Successfully run the primes_iter.py. With argument(s) ['1000'] got the output of 168.\n",
            "Elapsed time: 0.05s\n",
            "Successfully run the primes_iter.py. With argument(s) ['10000'] got the output of 1229.\n",
            "Elapsed time: 0.42s\n",
            "Successfully run the primes_iter.py. With argument(s) ['100000'] got the output of 9592.\n",
            "Elapsed time: 29.55s\n"
          ],
          "name": "stdout"
        }
      ]
    }
  ]
}